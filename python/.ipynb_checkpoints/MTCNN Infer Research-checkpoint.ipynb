{
 "cells": [
  {
   "cell_type": "code",
   "execution_count": 1,
   "metadata": {},
   "outputs": [],
   "source": [
    "import cv2\n",
    "import numpy as np\n",
    "from PIL import Image\n",
    "def imshow(img):\n",
    "    return Image.fromarray(cv2.cvtColor(img, cv2.COLOR_BGR2RGB))"
   ]
  },
  {
   "cell_type": "markdown",
   "metadata": {},
   "source": [
    "Pnet 模型输出情况"
   ]
  },
  {
   "cell_type": "code",
   "execution_count": 2,
   "metadata": {},
   "outputs": [],
   "source": [
    "pnet_ = cv2.dnn.readNetFromCaffe(\"/Users/yh-mac/Desktop/face/det1.prototxt\", \"/Users/yh-mac/Desktop/face/det1.caffemodel\")\n",
    "min_size = 40\n",
    "threshold = [0.7, 0.6, 0.6]\n",
    "factor = 0.709\n",
    "std_val = 0.0078125\n",
    "mean_val = 127.5"
   ]
  },
  {
   "cell_type": "code",
   "execution_count": 7,
   "metadata": {},
   "outputs": [],
   "source": [
    "img = cv2.imread('../imgs/by.jpg')\n",
    "# imshow(img)"
   ]
  },
  {
   "cell_type": "code",
   "execution_count": 22,
   "metadata": {},
   "outputs": [
    {
     "name": "stdout",
     "output_type": "stream",
     "text": [
      "inputBlob:  (1, 3, 358, 449)\n",
      "prob:  (1, 2, 174, 220)\n",
      "reg:  (1, 4, 174, 220)\n",
      "feature_map_w_:220, feature_map_h_:174\n",
      "spatical_size:  38280\n",
      "confidence_data:  (76560,)\n",
      "reg_data:  (153120,)\n"
     ]
    }
   ],
   "source": [
    "inputBlob = cv2.dnn.blobFromImage(img, scalefactor=std_val, mean=[mean_val, mean_val, mean_val])\n",
    "print('inputBlob: ', inputBlob.shape)\n",
    "pnet_.setInput(inputBlob)\n",
    "# 这边为什么输入\n",
    "prob, reg = pnet_.forward([\"prob1\", \"conv4-2\"])\n",
    "print('prob: ', prob.shape)\n",
    "print('reg: ', reg.shape)\n",
    "feature_map_w_ = prob.shape[3]\n",
    "feature_map_h_ = prob.shape[2]\n",
    "print('feature_map_w_:{}, feature_map_h_:{}'.format(feature_map_w_, feature_map_h_))\n",
    "spatical_size = feature_map_w_ * feature_map_h_\n",
    "print('spatical_size: ', spatical_size)\n",
    "confidence_data = prob.reshape(-1)\n",
    "print(\"confidence_data: \", confidence_data.shape)\n",
    "reg_data = reg.reshape(-1)\n",
    "print(\"reg_data: \", reg_data.shape)"
   ]
  },
  {
   "cell_type": "code",
   "execution_count": 9,
   "metadata": {},
   "outputs": [
    {
     "data": {
      "text/plain": [
       "array([9.9972671e-01, 9.9965787e-01, 9.9972230e-01, ..., 1.7738843e-04,\n",
       "       2.9242563e-04, 6.1534526e-04], dtype=float32)"
      ]
     },
     "execution_count": 9,
     "metadata": {},
     "output_type": "execute_result"
    }
   ],
   "source": [
    "confidence_data"
   ]
  },
  {
   "cell_type": "code",
   "execution_count": 11,
   "metadata": {},
   "outputs": [],
   "source": [
    "for i in range(0, spatical_size):\n",
    "    if confidence_data[i] >= 0.7:\n",
    "        y = i // feature_map_w_\n",
    "        x = i - feature_map_w_ * y\n",
    "        x1 = x * 2\n",
    "        y1 = y * 2\n",
    "        x2 = x * 2 + 12\n",
    "        y2 = y * 2 + 12\n",
    "        box = [x1, y1, x2, y2]\n",
    "        reg_x1 = reg_data[i]\n",
    "        reg_y1 = reg_data[i + spatical_size]\n",
    "        reg_x2 = reg_data[i + 2 + spatical_size]\n",
    "        reg_y2 = reg_data[i + 3 + spatical_size]\n",
    "        reg_box = [reg_x1, reg_y1, reg_x2, reg_y2]\n",
    "        score = confidence_data[i]\n",
    "#         print(box, reg_box, score)\n",
    "#         cv2.rectangle()\n",
    "        "
   ]
  },
  {
   "cell_type": "code",
   "execution_count": 42,
   "metadata": {},
   "outputs": [],
   "source": [
    "# feature_map_w_ = prob[3]\n",
    "# feature_map_h_ = prob[2]\n",
    "# print('feature_map_w_:{}, feature_map_h_:{}'.format(feature_map_w_, feature_map_h_))"
   ]
  },
  {
   "cell_type": "code",
   "execution_count": 31,
   "metadata": {},
   "outputs": [
    {
     "data": {
      "text/plain": [
       "(174, 220)"
      ]
     },
     "execution_count": 31,
     "metadata": {},
     "output_type": "execute_result"
    }
   ],
   "source": [
    "res[0][0].shape"
   ]
  },
  {
   "cell_type": "code",
   "execution_count": 63,
   "metadata": {},
   "outputs": [],
   "source": [
    "?pnet_.forward"
   ]
  },
  {
   "cell_type": "code",
   "execution_count": 19,
   "metadata": {},
   "outputs": [
    {
     "data": {
      "text/plain": [
       "array([[[[ 0.0849082 , -0.00856221, -0.01316941, ..., -0.01972723,\n",
       "          -0.01799428, -0.05145954],\n",
       "         [ 0.08517995, -0.00997609, -0.01325747, ..., -0.02068305,\n",
       "          -0.01717228, -0.05057696],\n",
       "         [ 0.08464805, -0.00854144, -0.0149107 , ..., -0.0196695 ,\n",
       "          -0.01869239, -0.05016108],\n",
       "         ...,\n",
       "         [ 0.08726424, -0.00038525,  0.00108975, ..., -0.002307  ,\n",
       "          -0.00184684, -0.04309982],\n",
       "         [ 0.0883468 , -0.00045159,  0.00103056, ..., -0.00576164,\n",
       "          -0.00430748, -0.04264739],\n",
       "         [ 0.09077533,  0.00114372, -0.00056577, ..., -0.00606124,\n",
       "          -0.0067139 , -0.0435473 ]],\n",
       "\n",
       "        [[-0.12147281, -0.13604411, -0.14084199, ..., -0.12324157,\n",
       "          -0.11680108, -0.04465208],\n",
       "         [-0.12467775, -0.13754833, -0.14083573, ..., -0.13586336,\n",
       "          -0.1253472 , -0.04744706],\n",
       "         [-0.12222944, -0.13702181, -0.14189976, ..., -0.14181852,\n",
       "          -0.12964186, -0.04921512],\n",
       "         ...,\n",
       "         [-0.09577212, -0.10156432, -0.10230476, ..., -0.11995509,\n",
       "          -0.11260881, -0.01830866],\n",
       "         [-0.09584735, -0.09905356, -0.10321   , ..., -0.11985975,\n",
       "          -0.11193341, -0.01901308],\n",
       "         [-0.10438618, -0.10386302, -0.10991384, ..., -0.11609569,\n",
       "          -0.10739245, -0.01539178]],\n",
       "\n",
       "        [[ 0.10048634,  0.02477381,  0.02810203, ...,  0.03046522,\n",
       "           0.01587354, -0.05549802],\n",
       "         [ 0.10064852,  0.02192047,  0.02558607, ...,  0.03322348,\n",
       "           0.01909268, -0.05392411],\n",
       "         [ 0.10090566,  0.02061692,  0.02274725, ...,  0.03315216,\n",
       "           0.020542  , -0.05230795],\n",
       "         ...,\n",
       "         [ 0.11380315,  0.02293816,  0.02533397, ...,  0.02707207,\n",
       "           0.01519945, -0.07142202],\n",
       "         [ 0.11305037,  0.020294  ,  0.02383557, ...,  0.02605404,\n",
       "           0.01514792, -0.06946983],\n",
       "         [ 0.11782357,  0.02139443,  0.02400658, ...,  0.02540663,\n",
       "           0.01266962, -0.06963086]],\n",
       "\n",
       "        [[ 0.08225402,  0.10640509,  0.10983014, ...,  0.13632521,\n",
       "           0.12647316,  0.15277722],\n",
       "         [ 0.07872733,  0.10360992,  0.10776892, ...,  0.12687919,\n",
       "           0.12020229,  0.1504606 ],\n",
       "         [ 0.08233659,  0.10171637,  0.10538924, ...,  0.11969057,\n",
       "           0.11900656,  0.14984879],\n",
       "         ...,\n",
       "         [ 0.1046306 ,  0.12980658,  0.12959762, ...,  0.11880618,\n",
       "           0.11435995,  0.15153408],\n",
       "         [ 0.10291684,  0.12996668,  0.12877986, ...,  0.12050611,\n",
       "           0.1169481 ,  0.15173212],\n",
       "         [ 0.0965867 ,  0.12445781,  0.12368935, ...,  0.1239202 ,\n",
       "           0.12151846,  0.15590379]]]], dtype=float32)"
      ]
     },
     "execution_count": 19,
     "metadata": {},
     "output_type": "execute_result"
    }
   ],
   "source": [
    "reg"
   ]
  },
  {
   "cell_type": "code",
   "execution_count": 26,
   "metadata": {},
   "outputs": [
    {
     "data": {
      "text/plain": [
       "(174, 220)"
      ]
     },
     "execution_count": 26,
     "metadata": {},
     "output_type": "execute_result"
    }
   ],
   "source": [
    "tprob = prob[0][1]\n",
    "tprob.shape"
   ]
  },
  {
   "cell_type": "code",
   "execution_count": 49,
   "metadata": {},
   "outputs": [
    {
     "data": {
      "text/plain": [
       "array([[0.08225402, 0.10640509, 0.10983014, ..., 0.13632521, 0.12647316,\n",
       "        0.15277722],\n",
       "       [0.07872733, 0.10360992, 0.10776892, ..., 0.12687919, 0.12020229,\n",
       "        0.1504606 ],\n",
       "       [0.08233659, 0.10171637, 0.10538924, ..., 0.11969057, 0.11900656,\n",
       "        0.14984879],\n",
       "       ...,\n",
       "       [0.1046306 , 0.12980658, 0.12959762, ..., 0.11880618, 0.11435995,\n",
       "        0.15153408],\n",
       "       [0.10291684, 0.12996668, 0.12877986, ..., 0.12050611, 0.1169481 ,\n",
       "        0.15173212],\n",
       "       [0.0965867 , 0.12445781, 0.12368935, ..., 0.1239202 , 0.12151846,\n",
       "        0.15590379]], dtype=float32)"
      ]
     },
     "execution_count": 49,
     "metadata": {},
     "output_type": "execute_result"
    }
   ],
   "source": [
    "treg = reg[0]\n",
    "treg[3]"
   ]
  },
  {
   "cell_type": "code",
   "execution_count": 38,
   "metadata": {},
   "outputs": [
    {
     "data": {
      "text/plain": [
       "array([[ 90,  90,  90,  90, 109, 109, 111, 112, 112, 112, 113, 113, 113,\n",
       "        114, 114, 114, 114, 114, 115, 115, 115, 115, 115, 115, 116, 116,\n",
       "        116, 116, 116, 116, 116, 116, 117, 117, 128, 128, 129, 129, 129,\n",
       "        129, 130, 130, 131, 131, 132, 133, 142, 143],\n",
       "       [134, 135, 136, 137,  84,  88,  70,  88,  89,  90,  88,  89,  90,\n",
       "         68,  69,  77,  78,  79,  68,  76,  77,  78,  79,  80,  62,  66,\n",
       "         67,  68,  77,  78,  79,  80,  79,  80,  75,  95,  71,  79,  94,\n",
       "         95,  71,  95,  81,  83,  83,  83, 107, 106]])"
      ]
     },
     "execution_count": 38,
     "metadata": {},
     "output_type": "execute_result"
    }
   ],
   "source": [
    "index = np.asarray(np.where(tprob>0.9))\n",
    "index"
   ]
  },
  {
   "cell_type": "code",
   "execution_count": 55,
   "metadata": {},
   "outputs": [
    {
     "data": {
      "text/plain": [
       "(4, 2, 48, 220)"
      ]
     },
     "execution_count": 55,
     "metadata": {},
     "output_type": "execute_result"
    }
   ],
   "source": [
    "treg[:, index].shape"
   ]
  }
 ],
 "metadata": {
  "kernelspec": {
   "display_name": "Python 3",
   "language": "python",
   "name": "python3"
  },
  "language_info": {
   "codemirror_mode": {
    "name": "ipython",
    "version": 3
   },
   "file_extension": ".py",
   "mimetype": "text/x-python",
   "name": "python",
   "nbconvert_exporter": "python",
   "pygments_lexer": "ipython3",
   "version": "3.6.10"
  }
 },
 "nbformat": 4,
 "nbformat_minor": 4
}
